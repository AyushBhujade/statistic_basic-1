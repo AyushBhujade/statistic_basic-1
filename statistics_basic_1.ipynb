{
 "cells": [
  {
   "cell_type": "markdown",
   "id": "1f3bc306-0e45-46ae-890d-b9f3ca93f6c0",
   "metadata": {},
   "source": [
    "quation 1:"
   ]
  },
  {
   "cell_type": "markdown",
   "id": "36793ee0-3e65-45a1-8a73-287c0fac7cf4",
   "metadata": {},
   "source": [
    "statistics is the science of collecting, organizing, and analyzing the data"
   ]
  },
  {
   "cell_type": "markdown",
   "id": "51e53237-cab0-486a-a395-b5d55de6189a",
   "metadata": {},
   "source": [
    "quation 2:"
   ]
  },
  {
   "cell_type": "markdown",
   "id": "ae113437-a97c-4879-b50e-ca4a5bf4c4c2",
   "metadata": {},
   "source": [
    "there are two types of statistic \n",
    "1)Desriptive Statistic\n",
    "2)Inferential statistics\n",
    "\n",
    "1)it consist of oraganizing and summarizing the data \n",
    "ex-lets consider a class of 10th std what is the the average marks obtaind by student\n",
    "\n",
    "2)it consist of using data you have measured to from conclusion\n",
    "ex-lets consider a village  what is the average height of the people "
   ]
  },
  {
   "cell_type": "markdown",
   "id": "d9da01a1-b842-4460-bd0c-f70cd1448f40",
   "metadata": {},
   "source": [
    "quation 3"
   ]
  },
  {
   "cell_type": "markdown",
   "id": "8abe96b1-8b6f-4807-a840-0fe4f31f478a",
   "metadata": {},
   "source": [
    "there are mainly two types of data - 1)Quentitative \n",
    "                                     2)Qualitative\n",
    "    \n",
    "In Quentitative Data there are two types-1)Discrete\n",
    "                                         2)continuous\n",
    "    \n",
    "In Qualitative there are also twoo types-1)Nominal\n",
    "                                         2)ordinal\n",
    "dicrete:ex like number of children in family,no.of bank account\n",
    "\n",
    "Continuous : ex-height,weight,kilometer\n",
    "\n",
    "Nominal : gender,Blood group\n",
    "\n",
    "ordinal: Customer feedback,Good,Bad,Better"
   ]
  },
  {
   "cell_type": "markdown",
   "id": "e768df9f-695a-4912-8df4-1028d2e1027f",
   "metadata": {},
   "source": [
    "quation 4"
   ]
  },
  {
   "cell_type": "markdown",
   "id": "8c18490d-edea-4a69-8f4d-bedaad006723",
   "metadata": {},
   "source": [
    "i)Ordinal\n",
    "ii)Nominal\n",
    "iii)Continuous\n",
    "iv)Descete\n"
   ]
  },
  {
   "cell_type": "markdown",
   "id": "38582f3f-29e0-4a2d-8846-053c525ec327",
   "metadata": {},
   "source": [
    "quatiton 5"
   ]
  },
  {
   "cell_type": "markdown",
   "id": "4a5bd3a1-55e7-4957-92f1-b941c5059739",
   "metadata": {},
   "source": [
    "i) Nominal: the data can only be categorized.\n",
    "for example: data is about person gender is nominal\n",
    "\n",
    "ii) Ordinal: the data can be categorized and ranked. \n",
    "for example: data about a person finish place in race (1st,2nd,3rd)\n",
    "\n",
    "iii) interval: the data can be categorized and ranked  and evenly spaced. \n",
    "for example: temperature in degree farenheit or celcius\n",
    "\n",
    "iv) ratio: the data can be orgonized, ranked,evenly spaced,and natural zero.\n",
    "for example: height and weight are ratio variable.there is a natural zero point for both height and weight\n"
   ]
  },
  {
   "cell_type": "markdown",
   "id": "03f06469-8b55-4c23-874b-876133a0ec9a",
   "metadata": {},
   "source": [
    "quation 6"
   ]
  },
  {
   "cell_type": "markdown",
   "id": "a83f0d9c-2e50-4bc7-82dc-fd63e6a2dd28",
   "metadata": {},
   "source": [
    "  Understanding the level of measurement is crucial in data analysis as it determines the statistical methods suitable for interpreting the data. For   example, nominal data (categories without inherent order) may only allow for frequency counts, while ordinal data (categories with a meaningful       order) permits ranking. Interval and ratio data involve numeric values with known intervals, enabling more advanced statistical analyses like mean     and standard deviation calculations. Choosing the appropriate analysis method ensures accurate and meaningful insights from the data."
   ]
  },
  {
   "cell_type": "markdown",
   "id": "c9c2e435-86be-44e0-b293-b3f635804353",
   "metadata": {},
   "source": [
    "quation 7:"
   ]
  },
  {
   "cell_type": "markdown",
   "id": "2b71cd94-750e-47f8-8b80-f34e854da77f",
   "metadata": {},
   "source": [
    "\n",
    "Nominal Data:\n",
    "Represents categories without any inherent order or ranking.\n",
    "Examples include colors, gender, or types of fruit.\n",
    "The categories are distinct, but there is no meaningful order or hierarchy between them.\n",
    "\n",
    "Ordinal Data:\n",
    "Represents categories with a meaningful order or ranking.\n",
    "The categories have a relative position or rank, but the intervals between them are not consistent.\n",
    "Examples include education levels (e.g., high school, college, graduate), survey ratings (e.g., strongly disagree to strongly agree)."
   ]
  },
  {
   "cell_type": "markdown",
   "id": "af1d3fb1-bbe5-46cb-97fd-e91273fc6d26",
   "metadata": {},
   "source": [
    "quation 8:"
   ]
  },
  {
   "cell_type": "markdown",
   "id": "912c8398-14cd-41dd-8847-3695a7438ccb",
   "metadata": {},
   "source": [
    "A box plot (also known as a box-and-whisker plot) is a suitable type of plot for displaying data in terms of range. It provides a visual representation of the distribution of a dataset, including key statistics such as the median, quartiles, and potential outliers. The box in the plot represents the interquartile range (IQR), while the \"whiskers\" show the range of the data. This makes a box plot effective for identifying the spread and central tendency of a dataset, particularly when considering the range of values."
   ]
  },
  {
   "cell_type": "markdown",
   "id": "15b70c32-8ae9-46c5-8b2e-b8351641daea",
   "metadata": {},
   "source": [
    "quation 9:"
   ]
  },
  {
   "cell_type": "markdown",
   "id": "8551dfd3-2213-4666-8cc1-1940255bdc74",
   "metadata": {},
   "source": [
    "Descriptive: for summarizing and presenting data in a meaningful way, without making inferences or generalizations about a larger population.\n",
    "\n",
    "Example: Mean, median, mode, range, and standard deviation are descriptive statistics. For instance, calculating the average (mean) height of students in a classroom provides a summary measure without extending the findings to a broader population.\n",
    "\n",
    "Use: Descriptive statistics help in organizing and simplifying large sets of data, providing a clear overview of central tendencies and variability within a specific dataset.\n",
    "\n",
    "Inferential Statistics:\n",
    "Definition: Inferential statistics involve drawing conclusions or making predictions about a population based on a sample of data taken from that population.\n",
    "\n",
    "Example: Hypothesis testing and confidence intervals are examples of inferential statistics. For example, conducting a survey on a sample of voters to infer the preferences of the entire population and estimate the margin of error falls under inferential statistics\n"
   ]
  },
  {
   "cell_type": "markdown",
   "id": "63c740b1-673a-42e7-b214-87f7e815dbe2",
   "metadata": {},
   "source": [
    "quation 10:"
   ]
  },
  {
   "cell_type": "markdown",
   "id": "98f76cc0-10d6-4227-8761-529863bc9e26",
   "metadata": {},
   "source": [
    "there are three central tendency are:\n",
    "1)Mean:the sum of all values divided by the number of observation. used to providing a measure of the center of the data,balencing positive and negative deviation.\n",
    "\n",
    "2)Median:\n",
    "\n",
    "Definition: The middle value when the data is sorted in ascending or descending order.\n",
    "Use: Less sensitive to extreme values (outliers) compared to the mean, making it useful for skewed distributions.\n",
    "Mode:\n",
    "3)Mode :\n",
    "\n",
    "Definition: The value(s) that appear most frequently in the dataset.\n",
    "\n",
    "Use: Identifies the most common or recurring values in a dataset.\n",
    "Measures of Variability:\n",
    "\n",
    "Range:\n",
    "\n",
    "Definition: The difference between the maximum and minimum values in a dataset.\n",
    "Use: Gives a quick sense of the spread of the data, but sensitive to outliers.\n",
    "Variance:\n",
    "\n",
    "Definition: The average of the squared differences from the mean.\n",
    "Use: Provides a measure of how much individual data points deviate from the mean; however, it is in squared units."
   ]
  }
 ],
 "metadata": {
  "kernelspec": {
   "display_name": "Python 3 (ipykernel)",
   "language": "python",
   "name": "python3"
  },
  "language_info": {
   "codemirror_mode": {
    "name": "ipython",
    "version": 3
   },
   "file_extension": ".py",
   "mimetype": "text/x-python",
   "name": "python",
   "nbconvert_exporter": "python",
   "pygments_lexer": "ipython3",
   "version": "3.10.8"
  }
 },
 "nbformat": 4,
 "nbformat_minor": 5
}
